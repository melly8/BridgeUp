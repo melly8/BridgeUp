{
 "cells": [
  {
   "cell_type": "code",
   "execution_count": 1,
   "metadata": {},
   "outputs": [],
   "source": [
    "# open .txt files and read as strings\n",
    "\n",
    "badger = open(\"American Badger (Taxidea taxus).txt\").read()\n",
    "peccary = open(\"Collared peccary (Pecari tajacu).txt\").read()\n",
    "sheep = open(\"Bighorn sheep (Ovis canadensis).txt\").read()\n"
   ]
  },
  {
   "cell_type": "code",
   "execution_count": 2,
   "metadata": {},
   "outputs": [
    {
     "name": "stdout",
     "output_type": "stream",
     "text": [
      "CAAUCACAUCGAAUAUCUACAUUUCGUUCCGUGACUUUUACGGAUCUUCUCAGUGUUCUGAGGUGUUUGUAUUUCCAAACCAGGAUCGGAAGGAUAAUCAAUAAUCGUCUUAAUGUGUACGUUCAAAGGCGUAGGGUCACUUUUACGGGAGAUUUAGAGGUUUACUAAUUUUCCUCGCCCAUAGUUCGUGUGAUUUGUUCAUCGAGUGUUGUGGAACGAGUUGGUGUGGGGGUGCCCUAUGUCGUCACUAUUUUUAAUUCGGUAUUUGCUUUCAAACUGAUUCAGUACGAUUGUAAUCUCAACCAUUUAAAGCACGGUCGGUGGCGCCAGUAUGCUAAUUGGGUUUAAUUAUCCAGGGGCCGCAUUUUGCACAAUUCCUGUGGUAUUAUGAUUUCAAUUUUAAAUCGAUCCGGCAUUUUUCGAUGGCGGUUGUAUUUUAUACGGUGCUUUCACUGAAAUAAUAAAGGCUGUUGUGCUAUCGACUCUGGGUUUGACCCUAAUCUAUGGGGUGAUACGAGUCGGGAUUUGUAUUUAUUAAGGUUGUUGUUUUAAUAGACGGUCUCCUGAUGAUCGUUAUCGGAUUUUGAGUUUCCUGAACCGCCACGAAAUAUAGGGAGAUCUCCUCGGACAAGAUAUUAGCUAUUUGGGGCUAUUUGGAGUGGUGAAGAUCGAUUUGGUCAAAUAUAUGGCGGUAGCAGUCGUUUGGGAGUUUUCCUUCUUUUCAUUCGUGUUAUUAUAAUGUAUUUUUUCAAUCCAGUUCCACAUUGGUUACUUCACCCUUCUUUACCCGAUGUAAAAGAUUGGUUCUGAUUAUGGAUGCUUUCAAAUAUACUUUGGAUGUUUGAUUUCCACCUAAAUCAUCAUUUAAUUCUUAUCUCUCGAAUUAACUUAUCCCGGUACUUCGUGCGUGUGUGGCGGGCAGUGGGAGGAGUUUGUUGUGUGGUUUUGUAAUGUAUUAUGUUUUGUUUGGUUGCGUUCUCCUCUAUUCAGCAUUGUUCCAUUCGUGUGACCUUUCACGCGAACCUAUUUGGUUUCACAUCGAAUUGA\n"
     ]
    }
   ],
   "source": [
    "#transcription code for badger DNA\n",
    "\n",
    "RNA = \"\"\n",
    "\n",
    "for i in badger:\n",
    "    if i == \"A\":\n",
    "        RNA += \"U\"\n",
    "    elif i == \"T\":\n",
    "        RNA += \"A\"\n",
    "    elif i == \"G\":\n",
    "        RNA += \"C\"\n",
    "    elif i == \"C\":\n",
    "        RNA += \"G\"\n",
    "\n",
    "print(RNA)"
   ]
  },
  {
   "cell_type": "code",
   "execution_count": 3,
   "metadata": {},
   "outputs": [
    {
     "name": "stdout",
     "output_type": "stream",
     "text": [
      "CAAUUACAUCGAAUUUGUUUAUUUCGUUUCGUGACUUUUACGAAUCUACUCAUUUCGGUGAGGUAUUUGUGUGUCCAAACCAGGAUCGGAAAGGUAAAUAAAAAUCAUUUUAAUGUGUACGUUCAUAGGCGUGGGGUCACUCUUACGGGAGAUUUAGAAUUUCUAAUUUUCCUCGUCCAUAGUUCGUGUGGGGUACCAUCGAGUGUUGUGGAACGAGUUGGUGUGGGGGUGCCCUGUGUCGUCACUAUCUUUAAUUCGAUACUUGCUUUCAAACUGAUUCAAUAUAAUUUAUCUCAACCAUUUAUAGCACGGUCGGUGGCGCCAGUAUGCUAAUUGGGUUUAUUUACCUUAGUGCCGCAUUUCUCACAGAUUCUUUUUUGGGUGUUAUCUCGGUUUAAAGUUGAUUCGGCAUUUUUCGGUAUCGACUUUUUGUUUAUUUGAUGCUUCCAUCGAGAUUAUAGAGGUUAUGUGCUAUCGAUCCUGGGUUUGACCCUAAUCUAUGGGGUGAUACGGAUCGGGAUUUGGAUUUAUUAGCUGGUUGUUCUAAUAAGCGGUCUCAUGAUGAUCGUUGUCGGAUUUUGAGUUUCCUGAACUGCCACGAAGUAUAGGUAGAUCUCCUCGGACAAGACAUUAGCUAUUUGGGGCUAUUUGGAGUGGUUGGGAACGGUUUAGUCGGAUAUAUGGCGGUAGAAGUCGUUUGGGAUUUUUCCUUGUUGUCAUUCGUGUUGAUAUUAGAUAUUUUUGCAAUCCAGUUCCACAUCGGAUACCCAACCCUUCUUUACCCGAUGUAAAAGAUAUAUUCUUAUGAAUGCUUUUAAGAAUACUUUGAUUCUUAAUUUCCUCCUAAAUCGUCAUUUAAUUCUUAUCUCACGAAUUAACUUAUUCCGGUGUUUCGUGCGUGUGUGGCGGGCAGUGGGAGGAGUUCAUUUGCAUCGUACGUUUUGGAUAAUGUUUGUUUUGGUGUGUUCUCCUCUGUUCAGCAUUGUUCCAUUCGUAUGACCUUUCACACGAACCUGAUGGUUUCAUAUCGAAUUUA\n"
     ]
    }
   ],
   "source": [
    "#transcription code for peccary DNA\n",
    "\n",
    "RNA = \"\"\n",
    "\n",
    "for i in peccary:\n",
    "    if i == \"A\":\n",
    "        RNA += \"U\"\n",
    "    elif i == \"T\":\n",
    "        RNA += \"A\"\n",
    "    elif i == \"G\":\n",
    "        RNA += \"C\"\n",
    "    elif i == \"C\":\n",
    "        RNA += \"G\"\n",
    "\n",
    "print(RNA)"
   ]
  },
  {
   "cell_type": "code",
   "execution_count": 4,
   "metadata": {},
   "outputs": [
    {
     "name": "stdout",
     "output_type": "stream",
     "text": [
      "CAAUUACAUCGAAUUUGAAUUUCGUUCCGUGACUUUUACGGAUCUGCUCAGAUGACUGAGGUACUUGUAUAUCCAAACCAGGGUCGGAAGGACAAUUGAAAGUUAUCUGAAUAUGUACGUUCGUAGGUGCGGGGCCACUCAUUGCGGGAAGUUUAGUGUGUCCUGAUUUUCCUCGUCCAUAGUUCGUGUGUGGGGACAUCGAGUGUUGCGGAACGAAUUGGUGUGGGGGUGCCCUCUGUCGUCAUUGUUUUUAAUUCGGUAUUUGCUUUCAAACUGAUUCGGUAUAACUGAUCCCAACCAUUUAGAGCACGGUCGGUGGCGCCAGUAUGCUAACUGGGUUCGAUUGUCCUCAUGCCGCAUUUCGCACAAUUUCGUGGUAUAGUUUAUCUCAAUUUAAAAUUAAUUUGACAUUUUUCGGUAUUAAUAUCGUUUUUAUUUACUACUUUUAUUGGGAUAUUGUCGACUAUGUGAUAUCGAUUCUGGGUUUGACCCUAAUCUAUGGGGUGAUACGAAUCGGGAUUUGUGUUUAUUAAUAUUUUUGUUUUAAUAAGCGGUCUCAUGAUGGCCGUUGUCGGGCUUUGAGUUUCCUGAACCGCCACGAAAUAUGGGAAGAUCUCCUCGGACAAGAUAUUAGCUAUUUGGGGCUAUUUGGAGUGGUUAGGAACGAUUAUGUCAGAUAUAUGGCGGUAGAAGUCGUUUGGGAUUUUUUCCUUGUUUUCAUUCGAGUUAUUAUUAUGUAUUUCUGCAAUCCAGUUCCACAUUGGAUACCUCACCCUUCUUUACCCGAUGUAAAAGAUGAGUUCUUUUAAAUUAUGCUUUCGGUAAUACUUUAAUUAUCGGUUUCCUCCUAAAUCGUCAUUUGAUUCUUAUCUCACGAAUCAACUUAAUCCGGUACUUCGUGCGUGUGUGGCGGGCAGUGGGAGGAGUUCAUUUAUACUAUAUGAAUUUGGAUAAAUAUAUAAUUGGUAUGCUCUCCUCUGUUCAGCAUUGUUCCAUUCGUAUGACCUUUCACACGAACCUGUUUGGUUCUAUAUCGAAUUAG\n"
     ]
    }
   ],
   "source": [
    "RNA = \"\"\n",
    "\n",
    "for i in sheep:\n",
    "    if i == \"A\":\n",
    "        RNA += \"U\"\n",
    "    elif i == \"T\":\n",
    "        RNA += \"A\"\n",
    "    elif i == \"G\":\n",
    "        RNA += \"C\"\n",
    "    elif i == \"C\":\n",
    "        RNA += \"G\"\n",
    "\n",
    "print(RNA)"
   ]
  },
  {
   "cell_type": "code",
   "execution_count": 5,
   "metadata": {},
   "outputs": [],
   "source": [
    "#dictionary code \n",
    "\n",
    "codonDict = {\"UUU\":\"F\",\"UUC\":\"F\",\"UUA\":\"L\",\"UUG\":\"L\", \"CUU\":\"L\",\"CUC\":\"L\", \n",
    "             \"CUA\":\"L\",\"CUG\":\"L\",\"AUU\":\"I\",\"AUC\":\"I\",\"AUA\":\"I\",\"AUG\":\"M\",\n",
    "             \"GUU\":\"V\",\"GUC\":\"V\",\"GUA\":\"V\",\"GUG\":\"V\",\"UCU\":\"S\",\"UCC\":\"S\",\n",
    "             \"UCA\":\"S\",\"UCG\":\"S\",\"CCU\":\"P\",\"CCC\":\"P\",\"CCA\":\"P\",\"CCG\":\"P\",\n",
    "             \"ACU\":\"T\",\"ACC\":\"T\",\"ACA\":\"T\",\"ACG\":\"T\",\"GCU\":\"A\",\"GCC\":\"A\",\n",
    "             \"GCA\":\"A\",\"GCG\":\"A\",\"UAU\":\"Y\",\"UAC\":\"Y\",\"UAA\":\"STOP\",\"UAG\":\"STOP\",\n",
    "             \"UGA\":\"STOP\",\"CAU\":\"H\",\"CAC\":\"H\",\"CAA\":\"Q\",\"CAG\":\"Q\",\"AAU\":\"N\",\n",
    "             \"AAC\":\"N\",\"AAA\":\"K\",\"AAG\":\"K\",\"GAU\":\"D\",\"GAC\":\"D\",\"GAA\":\"E\",\n",
    "             \"GAG\":\"E\",\"UGU\":\"C\",\"UGC\":\"C\",\"UGG\":\"W\",\"CGU\":\"R\",\"CGC\":\"R\",\n",
    "             \"CGA\":\"R\",\"CGG\":\"R\",\"AGU\":\"S\",\"AGC\":\"S\",\"AGA\":\"R\",\"AGG\":\"R\",\n",
    "             \"GGU\":\"G\",\"GGC\":\"G\",\"GGA\":\"G\",\"GGG\":\"G\"}"
   ]
  },
  {
   "cell_type": "code",
   "execution_count": 6,
   "metadata": {},
   "outputs": [],
   "source": [
    "#translation code \n",
    "\n",
    "badger_DNA= \"\"\n",
    "codon = \"\"\n",
    "\n",
    "for i in RNA:\n",
    "    if len(codon) != 3:\n",
    "        codon += i\n",
    "    if len(codon) == 3:\n",
    "        badger_DNA += codonDict[codon]\n",
    "        codon = \"\""
   ]
  },
  {
   "cell_type": "code",
   "execution_count": 7,
   "metadata": {},
   "outputs": [],
   "source": [
    "peccary_DNA = \"\"\n",
    "codon2 = \"\"\n",
    "\n",
    "for i in RNA:\n",
    "    if len(codon) != 3:\n",
    "        codon += i\n",
    "    if len(codon) == 3:\n",
    "        peccary_DNA += codonDict[codon]\n",
    "        codon = \"\""
   ]
  },
  {
   "cell_type": "code",
   "execution_count": 8,
   "metadata": {},
   "outputs": [],
   "source": [
    "sheep_DNA = \"\"\n",
    "codon3 = \"\"\n",
    "\n",
    "for i in RNA:\n",
    "    if len(codon) != 3:\n",
    "        codon += i\n",
    "    if len(codon) == 3:\n",
    "        sheep_DNA += codonDict[codon]\n",
    "        codon = \"\""
   ]
  },
  {
   "cell_type": "code",
   "execution_count": 9,
   "metadata": {},
   "outputs": [
    {
     "name": "stdout",
     "output_type": "stream",
     "text": [
      "QLHRISTOPISFRDFYGSAQMTEVLVYPNQGRKDNSTOPKLSEYVRSSTOPVRGHSLREVSTOPCVLIFLVHSSCVGTSSVAERIGVGVPSVVIVFNSVFAFKLIRYNSTOPSQPFRARSVAPVCSTOPLGSIVLMPHFAQFRGIVYLNLKLISTOPHFSVLISFLFTTFIGILSTMSTOPYRFWVSTOPPSTOPSMGSTOPYESGFVFINIFVLISGLMMAVVGLSTOPVSSTOPTATKYGKISSDKILAIWGYLEWLGTIMSDIWRSTOPKSFGIFSLFSFELLLCISAIQFHIGYLTLLYPMSTOPKMSSFKLCFRSTOPYFNYRFPPKSSFDSYLTNQLNPVLRACVAGSGRSSFILYEFGSTOPIYNWYALLCSALFHSYDLSHEPVWFYIEL\n"
     ]
    }
   ],
   "source": [
    "print(badger_DNA)"
   ]
  },
  {
   "cell_type": "code",
   "execution_count": 10,
   "metadata": {},
   "outputs": [
    {
     "name": "stdout",
     "output_type": "stream",
     "text": [
      "AITSNLNFVPSTOPLLRICSDDSTOPGTCISKPGSEGQLKVISTOPICTFVGAGPLIAGSLVCPDFPRPSTOPFVCGDIECCGTNWCGGALCRHCFSTOPFGICFQTDSVSTOPLIPTISTOPSTVGGASMLTGFDCPHAAFRTISWYSLSQFKINLTFFGINIVFIYYFYWDIVDYVISILGLTLIYGVIRIGICVYSTOPYFCFNKRSHDGRCRALSFLNRHEIWEDLLGQDISYLGLFGVVRNDYVRYMAVEVVWDFFLVFIRVIIMYFCNPVPHWIPHPSLPDVKDEFFSTOPIMLSVILSTOPLSVSSSTOPIVISTOPFLSHESTSTOPSGTSCVCGGQWEEFIYTISTOPIWINISTOPLVCSPLFSIVPFVSTOPPFTRTCLVLYRI\n"
     ]
    }
   ],
   "source": [
    "print(peccary_DNA)"
   ]
  },
  {
   "cell_type": "code",
   "execution_count": 11,
   "metadata": {},
   "outputs": [
    {
     "name": "stdout",
     "output_type": "stream",
     "text": [
      "SNYIEFEFRSVTFTDLLRSTOPLRYLYIQTRVGRTIESYLNMYVRRCGATHCGKFSVSSTOPFSSSIVRVWGHRVLRNELVWGCPLSSLFLIRYLLSNSTOPFGITDPNHLEHGRWRQYANWVRLSSCRISHNFVVSTOPFISISTOPNSTOPFDIFRYSTOPYRFYLLLLLGYCRLCDIDSGFDPNLWGDTNRDLCLLIFLFSTOPSTOPAVSSTOPWPLSGFEFPEPPRNMGRSPRTRYSTOPLFGAIWSGSTOPERLCQIYGGRSRLGFFPCFHSSYYYVFLQSSSTLDTSPFFTRCKRSTOPVLLNYAFGNTLIIGFLLNRHLILISRINLIRYFVRVWRAVGGVHLYYMNLDKYIIGMLSSVQHCSIRMTFHTNLFGSISNSTOP\n"
     ]
    }
   ],
   "source": [
    "print(sheep_DNA)"
   ]
  },
  {
   "cell_type": "code",
   "execution_count": 31,
   "metadata": {},
   "outputs": [
    {
     "name": "stdout",
     "output_type": "stream",
     "text": [
      "363\n"
     ]
    }
   ],
   "source": [
    "#code to compare both DNA sequences \n",
    "difference = 0\n",
    "\n",
    "for c, i in enumerate(peccary_DNA):\n",
    "    if i != badger_DNA[c]:\n",
    "        difference += 1\n",
    "        \n",
    "print(difference)"
   ]
  },
  {
   "cell_type": "code",
   "execution_count": 13,
   "metadata": {},
   "outputs": [
    {
     "name": "stdout",
     "output_type": "stream",
     "text": [
      "1036\n",
      "1047\n"
     ]
    }
   ],
   "source": [
    "print(len(peccary))\n",
    "print(len(badger))\n"
   ]
  },
  {
   "cell_type": "code",
   "execution_count": 14,
   "metadata": {},
   "outputs": [
    {
     "name": "stdout",
     "output_type": "stream",
     "text": [
      "peccary sequence is shorter than badger sequence\n"
     ]
    }
   ],
   "source": [
    "diff = 0 \n",
    "shortest = \"\"\n",
    "longest = \"\"\n",
    "\n",
    "if len(peccary_DNA) < len(badger_DNA):\n",
    "    print(\"peccary sequence is shorter than badger sequence\")\n",
    "else:\n",
    "    print(\"badger sequence is shorter than peccary sequence\")\n",
    "\n",
    "    "
   ]
  },
  {
   "cell_type": "code",
   "execution_count": 17,
   "metadata": {},
   "outputs": [],
   "source": [
    "#this cell displays the sheep and peccary % differences \n",
    "shortestAB = \"\"\n",
    "longestAB = \"\"\n",
    "if len(sheep) < len(peccary):\n",
    "    shortestAB = sheep\n",
    "    longestAB = peccary\n",
    "else:\n",
    "    shortestAB = peccary\n",
    "    longestAB = sheep"
   ]
  },
  {
   "cell_type": "code",
   "execution_count": 18,
   "metadata": {},
   "outputs": [
    {
     "name": "stdout",
     "output_type": "stream",
     "text": [
      "46.23552123552124\n"
     ]
    }
   ],
   "source": [
    "dna_diff_AB = 0\n",
    "for c, i in enumerate(shortestAB):\n",
    "    if i != longestAB[c]:\n",
    "        dna_diff_AB += 1\n",
    "per_dif_AB = (dna_diff_AB/len(shortestAB))*100\n",
    "print(per_dif_AB)"
   ]
  },
  {
   "cell_type": "code",
   "execution_count": 19,
   "metadata": {},
   "outputs": [],
   "source": [
    "#this cell displays the peccary and badger % differences\n",
    "\n",
    "shortestBC = \"\"\n",
    "longestBC = \"\"\n",
    "if len(peccary) < len(badger):\n",
    "    shortestBC = peccary\n",
    "    longestBC= badger\n",
    "else:\n",
    "    shortestBC = badger\n",
    "    longestBC = peccary"
   ]
  },
  {
   "cell_type": "code",
   "execution_count": 20,
   "metadata": {},
   "outputs": [
    {
     "name": "stdout",
     "output_type": "stream",
     "text": [
      "63.32046332046332\n"
     ]
    }
   ],
   "source": [
    "dna_diff_BC = 0\n",
    "for c, i in enumerate(shortestBC):\n",
    "    if i != longestBC[c]:\n",
    "        dna_diff_BC += 1\n",
    "per_dif_BC = (dna_diff_BC/len(shortestBC))*100\n",
    "print(per_dif_BC)"
   ]
  },
  {
   "cell_type": "code",
   "execution_count": 21,
   "metadata": {},
   "outputs": [],
   "source": [
    "#this cell displays the sheep and badger % differences\n",
    "shortestAC = \"\"\n",
    "longestAC= \"\"\n",
    "if len(sheep) < len(badger):\n",
    "    shortestAC= sheep\n",
    "    longestAC = badger\n",
    "else:\n",
    "    shortestAC =  badger\n",
    "    longestAC = sheep"
   ]
  },
  {
   "cell_type": "code",
   "execution_count": 22,
   "metadata": {},
   "outputs": [
    {
     "name": "stdout",
     "output_type": "stream",
     "text": [
      "70.24952015355086\n"
     ]
    }
   ],
   "source": [
    "dna_diff_AC = 0\n",
    "for c, i in enumerate(shortestAC):\n",
    "    if i != longestAC[c]:\n",
    "        dna_diff_AC += 1\n",
    "per_dif_AC = (dna_diff_AC/len(shortestAC))*100\n",
    "print(per_dif_AC)"
   ]
  },
  {
   "cell_type": "code",
   "execution_count": 40,
   "metadata": {},
   "outputs": [],
   "source": [
    "def transcribe(dna):\n",
    "    RNA = \"\"\n",
    "    for i in badger:\n",
    "        if i == \"A\":\n",
    "            RNA += \"U\"\n",
    "        elif i == \"T\":\n",
    "            RNA += \"A\"\n",
    "        elif i == \"G\":\n",
    "            RNA += \"C\"\n",
    "        elif i == \"C\":\n",
    "            RNA += \"G\"\n",
    "            return(RNA)\n",
    "    "
   ]
  },
  {
   "cell_type": "code",
   "execution_count": 52,
   "metadata": {},
   "outputs": [
    {
     "ename": "IndentationError",
     "evalue": "unexpected indent (<ipython-input-52-7a0e9a3d21d7>, line 16)",
     "output_type": "error",
     "traceback": [
      "\u001b[0;36m  File \u001b[0;32m\"<ipython-input-52-7a0e9a3d21d7>\"\u001b[0;36m, line \u001b[0;32m16\u001b[0m\n\u001b[0;31m    for i in RNA:\u001b[0m\n\u001b[0m    ^\u001b[0m\n\u001b[0;31mIndentationError\u001b[0m\u001b[0;31m:\u001b[0m unexpected indent\n"
     ]
    }
   ],
   "source": [
    "def translation(RNA):\n",
    "    codonDict = {\"UUU\":\"F\",\"UUC\":\"F\",\"UUA\":\"L\",\"UUG\":\"L\", \"CUU\":\"L\",\"CUC\":\"L\", \n",
    "             \"CUA\":\"L\",\"CUG\":\"L\",\"AUU\":\"I\",\"AUC\":\"I\",\"AUA\":\"I\",\"AUG\":\"M\",\n",
    "             \"GUU\":\"V\",\"GUC\":\"V\",\"GUA\":\"V\",\"GUG\":\"V\",\"UCU\":\"S\",\"UCC\":\"S\",\n",
    "             \"UCA\":\"S\",\"UCG\":\"S\",\"CCU\":\"P\",\"CCC\":\"P\",\"CCA\":\"P\",\"CCG\":\"P\",\n",
    "             \"ACU\":\"T\",\"ACC\":\"T\",\"ACA\":\"T\",\"ACG\":\"T\",\"GCU\":\"A\",\"GCC\":\"A\",\n",
    "             \"GCA\":\"A\",\"GCG\":\"A\",\"UAU\":\"Y\",\"UAC\":\"Y\",\"UAA\":\"STOP\",\"UAG\":\"STOP\",\n",
    "             \"UGA\":\"STOP\",\"CAU\":\"H\",\"CAC\":\"H\",\"CAA\":\"Q\",\"CAG\":\"Q\",\"AAU\":\"N\",\n",
    "             \"AAC\":\"N\",\"AAA\":\"K\",\"AAG\":\"K\",\"GAU\":\"D\",\"GAC\":\"D\",\"GAA\":\"E\",\n",
    "             \"GAG\":\"E\",\"UGU\":\"C\",\"UGC\":\"C\",\"UGG\":\"W\",\"CGU\":\"R\",\"CGC\":\"R\",\n",
    "             \"CGA\":\"R\",\"CGG\":\"R\",\"AGU\":\"S\",\"AGC\":\"S\",\"AGA\":\"R\",\"AGG\":\"R\",\n",
    "             \"GGU\":\"G\",\"GGC\":\"G\",\"GGA\":\"G\",\"GGG\":\"G\"}\n",
    "\n",
    "    protein = \"\"\n",
    "    codon = \"\"\n",
    "    for i in RNA:\n",
    "        if len(codon) != 3:\n",
    "            codon += i\n",
    "        if len(codon) == 3:\n",
    "            protein+=codonDict[codon]\n",
    "            codon = \"\"\n",
    "            return protein    "
   ]
  },
  {
   "cell_type": "code",
   "execution_count": 50,
   "metadata": {},
   "outputs": [
    {
     "ename": "NameError",
     "evalue": "name 'compare' is not defined",
     "output_type": "error",
     "traceback": [
      "\u001b[0;31m---------------------------------------------------------------------------\u001b[0m",
      "\u001b[0;31mNameError\u001b[0m                                 Traceback (most recent call last)",
      "\u001b[0;32m<ipython-input-50-159cc218b8cc>\u001b[0m in \u001b[0;36m<module>\u001b[0;34m\u001b[0m\n\u001b[1;32m      3\u001b[0m \u001b[0mproteinC\u001b[0m \u001b[0;34m=\u001b[0m \u001b[0mtranslation\u001b[0m\u001b[0;34m(\u001b[0m\u001b[0mtranscribe\u001b[0m\u001b[0;34m(\u001b[0m\u001b[0mbadger\u001b[0m\u001b[0;34m)\u001b[0m\u001b[0;34m)\u001b[0m\u001b[0;34m\u001b[0m\u001b[0;34m\u001b[0m\u001b[0m\n\u001b[1;32m      4\u001b[0m \u001b[0;34m\u001b[0m\u001b[0m\n\u001b[0;32m----> 5\u001b[0;31m \u001b[0mprint\u001b[0m\u001b[0;34m(\u001b[0m\u001b[0mcompare\u001b[0m\u001b[0;34m(\u001b[0m\u001b[0mproteinA\u001b[0m\u001b[0;34m,\u001b[0m \u001b[0mproteinB\u001b[0m\u001b[0;34m)\u001b[0m\u001b[0;34m)\u001b[0m\u001b[0;34m\u001b[0m\u001b[0;34m\u001b[0m\u001b[0m\n\u001b[0m",
      "\u001b[0;31mNameError\u001b[0m: name 'compare' is not defined"
     ]
    }
   ],
   "source": [
    "proteinA = translation(transcribe(sheep))\n",
    "proteinB = translation(transcribe(peccary))\n",
    "proteinC = translation(transcribe(badger))\n",
    "\n",
    "print(compare(proteinA, proteinB))"
   ]
  },
  {
   "cell_type": "code",
   "execution_count": null,
   "metadata": {},
   "outputs": [],
   "source": []
  },
  {
   "cell_type": "code",
   "execution_count": 25,
   "metadata": {},
   "outputs": [],
   "source": [
    "def AddNum(num1,num2):\n",
    "    nsum = num1+num2\n",
    "    return nsum"
   ]
  },
  {
   "cell_type": "code",
   "execution_count": 26,
   "metadata": {},
   "outputs": [
    {
     "name": "stdout",
     "output_type": "stream",
     "text": [
      "8\n"
     ]
    }
   ],
   "source": [
    "print(AddNum(3,5))"
   ]
  },
  {
   "cell_type": "code",
   "execution_count": 27,
   "metadata": {},
   "outputs": [
    {
     "name": "stdout",
     "output_type": "stream",
     "text": [
      "12364\n"
     ]
    }
   ],
   "source": [
    "print(AddNum(3456,8908))"
   ]
  },
  {
   "cell_type": "code",
   "execution_count": 28,
   "metadata": {},
   "outputs": [],
   "source": [
    "def Mylen(item):\n",
    "    c = 0 \n",
    "    for i in obj:\n",
    "        c += 1\n",
    "    return c"
   ]
  },
  {
   "cell_type": "code",
   "execution_count": 29,
   "metadata": {},
   "outputs": [],
   "source": [
    "my_list = [0, 1, 24, 30]"
   ]
  },
  {
   "cell_type": "code",
   "execution_count": 30,
   "metadata": {},
   "outputs": [
    {
     "name": "stdout",
     "output_type": "stream",
     "text": [
      "4\n"
     ]
    }
   ],
   "source": [
    "print(len(my_list))"
   ]
  },
  {
   "cell_type": "code",
   "execution_count": null,
   "metadata": {},
   "outputs": [],
   "source": []
  }
 ],
 "metadata": {
  "kernelspec": {
   "display_name": "Python 3",
   "language": "python",
   "name": "python3"
  },
  "language_info": {
   "codemirror_mode": {
    "name": "ipython",
    "version": 3
   },
   "file_extension": ".py",
   "mimetype": "text/x-python",
   "name": "python",
   "nbconvert_exporter": "python",
   "pygments_lexer": "ipython3",
   "version": "3.7.3"
  }
 },
 "nbformat": 4,
 "nbformat_minor": 2
}
