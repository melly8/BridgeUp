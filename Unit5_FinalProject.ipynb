{
 "cells": [
  {
   "cell_type": "code",
   "execution_count": 1,
   "metadata": {},
   "outputs": [],
   "source": [
    "#first step \n",
    "\n",
    "#import pandas library \n",
    "#read csv\n",
    "\n",
    "#explore reference datasets "
   ]
  },
  {
   "cell_type": "code",
   "execution_count": 2,
   "metadata": {},
   "outputs": [],
   "source": [
    "import pandas as pd "
   ]
  },
  {
   "cell_type": "code",
   "execution_count": 3,
   "metadata": {},
   "outputs": [],
   "source": [
    "brain_df = pd.read_csv(\"bird_dino_data.csv\")"
   ]
  },
  {
   "cell_type": "code",
   "execution_count": 4,
   "metadata": {},
   "outputs": [
    {
     "data": {
      "text/html": [
       "<div>\n",
       "<style scoped>\n",
       "    .dataframe tbody tr th:only-of-type {\n",
       "        vertical-align: middle;\n",
       "    }\n",
       "\n",
       "    .dataframe tbody tr th {\n",
       "        vertical-align: top;\n",
       "    }\n",
       "\n",
       "    .dataframe thead th {\n",
       "        text-align: right;\n",
       "    }\n",
       "</style>\n",
       "<table border=\"1\" class=\"dataframe\">\n",
       "  <thead>\n",
       "    <tr style=\"text-align: right;\">\n",
       "      <th></th>\n",
       "      <th>Species ID</th>\n",
       "      <th>Bird vs Dino</th>\n",
       "      <th>Body Mass (kg)</th>\n",
       "      <th>Olfactory bulbs (cm3)</th>\n",
       "      <th>Cerebrum (cm3)</th>\n",
       "      <th>Optic Lobes (cm3)</th>\n",
       "      <th>Cerebellum (cm3)</th>\n",
       "      <th>Brain Stem (cm3)</th>\n",
       "    </tr>\n",
       "  </thead>\n",
       "  <tbody>\n",
       "    <tr>\n",
       "      <th>0</th>\n",
       "      <td>1</td>\n",
       "      <td>B</td>\n",
       "      <td>0.02</td>\n",
       "      <td>0.009</td>\n",
       "      <td>1.53</td>\n",
       "      <td>0.20</td>\n",
       "      <td>0.16</td>\n",
       "      <td>0.06</td>\n",
       "    </tr>\n",
       "    <tr>\n",
       "      <th>1</th>\n",
       "      <td>2</td>\n",
       "      <td>B</td>\n",
       "      <td>1.26</td>\n",
       "      <td>0.006</td>\n",
       "      <td>16.81</td>\n",
       "      <td>2.84</td>\n",
       "      <td>1.70</td>\n",
       "      <td>0.68</td>\n",
       "    </tr>\n",
       "    <tr>\n",
       "      <th>2</th>\n",
       "      <td>3</td>\n",
       "      <td>B</td>\n",
       "      <td>2.18</td>\n",
       "      <td>0.026</td>\n",
       "      <td>11.08</td>\n",
       "      <td>1.95</td>\n",
       "      <td>0.89</td>\n",
       "      <td>1.15</td>\n",
       "    </tr>\n",
       "    <tr>\n",
       "      <th>3</th>\n",
       "      <td>4</td>\n",
       "      <td>D</td>\n",
       "      <td>0.25</td>\n",
       "      <td>0.050</td>\n",
       "      <td>0.41</td>\n",
       "      <td>0.16</td>\n",
       "      <td>0.09</td>\n",
       "      <td>0.12</td>\n",
       "    </tr>\n",
       "    <tr>\n",
       "      <th>4</th>\n",
       "      <td>5</td>\n",
       "      <td>B</td>\n",
       "      <td>0.01</td>\n",
       "      <td>0.003</td>\n",
       "      <td>1.57</td>\n",
       "      <td>0.20</td>\n",
       "      <td>0.34</td>\n",
       "      <td>0.08</td>\n",
       "    </tr>\n",
       "  </tbody>\n",
       "</table>\n",
       "</div>"
      ],
      "text/plain": [
       "   Species ID Bird vs Dino  Body Mass (kg)  Olfactory bulbs (cm3)  \\\n",
       "0           1            B            0.02                  0.009   \n",
       "1           2            B            1.26                  0.006   \n",
       "2           3            B            2.18                  0.026   \n",
       "3           4            D            0.25                  0.050   \n",
       "4           5            B            0.01                  0.003   \n",
       "\n",
       "   Cerebrum (cm3)  Optic Lobes (cm3)  Cerebellum (cm3)  Brain Stem (cm3)  \n",
       "0            1.53               0.20              0.16              0.06  \n",
       "1           16.81               2.84              1.70              0.68  \n",
       "2           11.08               1.95              0.89              1.15  \n",
       "3            0.41               0.16              0.09              0.12  \n",
       "4            1.57               0.20              0.34              0.08  "
      ]
     },
     "execution_count": 4,
     "metadata": {},
     "output_type": "execute_result"
    }
   ],
   "source": [
    "brain_df.head()"
   ]
  },
  {
   "cell_type": "code",
   "execution_count": 6,
   "metadata": {},
   "outputs": [],
   "source": [
    "species_id = brain_df[\"Species ID\"]\n",
    "bird_dino = brain_df[\"Bird vs Dino\"]\n",
    "body_mass = brain_df[\"Body Mass (kg)\"]\n",
    "olfactory_bulb = brain_df[\"Olfactory bulbs (cm3)\"]\n",
    "cerebrum = brain_df[\"Cerebrum (cm3)\"]\n",
    "optic_lobe = brain_df[\"Optic Lobes (cm3)\"]\n",
    "cerebellum = brain_df[\"Cerebellum (cm3)\"]\n",
    "brain_stem = brain_df[\"Brain Stem (cm3)\"]"
   ]
  },
  {
   "cell_type": "code",
   "execution_count": 7,
   "metadata": {},
   "outputs": [],
   "source": [
    "#second step \n",
    "#find average brain/body mass and cerebrum/wholebrain for birds and non-avian dinosaurs "
   ]
  },
  {
   "cell_type": "code",
   "execution_count": 8,
   "metadata": {},
   "outputs": [],
   "source": [
    "brain_df[\"whole brain (cm3)\"] = brain_df[\"Olfactory bulbs (cm3)\"] + brain_df[\"Cerebrum (cm3)\"] + brain_df[\"Optic Lobes (cm3)\"] + brain_df[\"Cerebellum (cm3)\"] + brain_df[\"Brain Stem (cm3)\"]"
   ]
  },
  {
   "cell_type": "code",
   "execution_count": 9,
   "metadata": {},
   "outputs": [
    {
     "data": {
      "text/html": [
       "<div>\n",
       "<style scoped>\n",
       "    .dataframe tbody tr th:only-of-type {\n",
       "        vertical-align: middle;\n",
       "    }\n",
       "\n",
       "    .dataframe tbody tr th {\n",
       "        vertical-align: top;\n",
       "    }\n",
       "\n",
       "    .dataframe thead th {\n",
       "        text-align: right;\n",
       "    }\n",
       "</style>\n",
       "<table border=\"1\" class=\"dataframe\">\n",
       "  <thead>\n",
       "    <tr style=\"text-align: right;\">\n",
       "      <th></th>\n",
       "      <th>Species ID</th>\n",
       "      <th>Bird vs Dino</th>\n",
       "      <th>Body Mass (kg)</th>\n",
       "      <th>Olfactory bulbs (cm3)</th>\n",
       "      <th>Cerebrum (cm3)</th>\n",
       "      <th>Optic Lobes (cm3)</th>\n",
       "      <th>Cerebellum (cm3)</th>\n",
       "      <th>Brain Stem (cm3)</th>\n",
       "      <th>whole brain (cm3)</th>\n",
       "    </tr>\n",
       "  </thead>\n",
       "  <tbody>\n",
       "    <tr>\n",
       "      <th>0</th>\n",
       "      <td>1</td>\n",
       "      <td>B</td>\n",
       "      <td>0.02</td>\n",
       "      <td>0.009</td>\n",
       "      <td>1.53</td>\n",
       "      <td>0.20</td>\n",
       "      <td>0.16</td>\n",
       "      <td>0.06</td>\n",
       "      <td>1.959</td>\n",
       "    </tr>\n",
       "    <tr>\n",
       "      <th>1</th>\n",
       "      <td>2</td>\n",
       "      <td>B</td>\n",
       "      <td>1.26</td>\n",
       "      <td>0.006</td>\n",
       "      <td>16.81</td>\n",
       "      <td>2.84</td>\n",
       "      <td>1.70</td>\n",
       "      <td>0.68</td>\n",
       "      <td>22.036</td>\n",
       "    </tr>\n",
       "    <tr>\n",
       "      <th>2</th>\n",
       "      <td>3</td>\n",
       "      <td>B</td>\n",
       "      <td>2.18</td>\n",
       "      <td>0.026</td>\n",
       "      <td>11.08</td>\n",
       "      <td>1.95</td>\n",
       "      <td>0.89</td>\n",
       "      <td>1.15</td>\n",
       "      <td>15.096</td>\n",
       "    </tr>\n",
       "    <tr>\n",
       "      <th>3</th>\n",
       "      <td>4</td>\n",
       "      <td>D</td>\n",
       "      <td>0.25</td>\n",
       "      <td>0.050</td>\n",
       "      <td>0.41</td>\n",
       "      <td>0.16</td>\n",
       "      <td>0.09</td>\n",
       "      <td>0.12</td>\n",
       "      <td>0.830</td>\n",
       "    </tr>\n",
       "    <tr>\n",
       "      <th>4</th>\n",
       "      <td>5</td>\n",
       "      <td>B</td>\n",
       "      <td>0.01</td>\n",
       "      <td>0.003</td>\n",
       "      <td>1.57</td>\n",
       "      <td>0.20</td>\n",
       "      <td>0.34</td>\n",
       "      <td>0.08</td>\n",
       "      <td>2.193</td>\n",
       "    </tr>\n",
       "  </tbody>\n",
       "</table>\n",
       "</div>"
      ],
      "text/plain": [
       "   Species ID Bird vs Dino  Body Mass (kg)  Olfactory bulbs (cm3)  \\\n",
       "0           1            B            0.02                  0.009   \n",
       "1           2            B            1.26                  0.006   \n",
       "2           3            B            2.18                  0.026   \n",
       "3           4            D            0.25                  0.050   \n",
       "4           5            B            0.01                  0.003   \n",
       "\n",
       "   Cerebrum (cm3)  Optic Lobes (cm3)  Cerebellum (cm3)  Brain Stem (cm3)  \\\n",
       "0            1.53               0.20              0.16              0.06   \n",
       "1           16.81               2.84              1.70              0.68   \n",
       "2           11.08               1.95              0.89              1.15   \n",
       "3            0.41               0.16              0.09              0.12   \n",
       "4            1.57               0.20              0.34              0.08   \n",
       "\n",
       "   whole brain (cm3)  \n",
       "0              1.959  \n",
       "1             22.036  \n",
       "2             15.096  \n",
       "3              0.830  \n",
       "4              2.193  "
      ]
     },
     "execution_count": 9,
     "metadata": {},
     "output_type": "execute_result"
    }
   ],
   "source": [
    "brain_df.head()"
   ]
  },
  {
   "cell_type": "code",
   "execution_count": 10,
   "metadata": {},
   "outputs": [],
   "source": [
    "brain_df[\"Brain To Body mass\"] = (brain_df[\"whole brain (cm3)\"]) / (brain_df[\"Body Mass (kg)\"]*1000)"
   ]
  },
  {
   "cell_type": "code",
   "execution_count": 11,
   "metadata": {},
   "outputs": [
    {
     "data": {
      "text/html": [
       "<div>\n",
       "<style scoped>\n",
       "    .dataframe tbody tr th:only-of-type {\n",
       "        vertical-align: middle;\n",
       "    }\n",
       "\n",
       "    .dataframe tbody tr th {\n",
       "        vertical-align: top;\n",
       "    }\n",
       "\n",
       "    .dataframe thead th {\n",
       "        text-align: right;\n",
       "    }\n",
       "</style>\n",
       "<table border=\"1\" class=\"dataframe\">\n",
       "  <thead>\n",
       "    <tr style=\"text-align: right;\">\n",
       "      <th></th>\n",
       "      <th>Species ID</th>\n",
       "      <th>Bird vs Dino</th>\n",
       "      <th>Body Mass (kg)</th>\n",
       "      <th>Olfactory bulbs (cm3)</th>\n",
       "      <th>Cerebrum (cm3)</th>\n",
       "      <th>Optic Lobes (cm3)</th>\n",
       "      <th>Cerebellum (cm3)</th>\n",
       "      <th>Brain Stem (cm3)</th>\n",
       "      <th>whole brain (cm3)</th>\n",
       "      <th>Brain To Body mass</th>\n",
       "    </tr>\n",
       "  </thead>\n",
       "  <tbody>\n",
       "    <tr>\n",
       "      <th>0</th>\n",
       "      <td>1</td>\n",
       "      <td>B</td>\n",
       "      <td>0.02</td>\n",
       "      <td>0.009</td>\n",
       "      <td>1.53</td>\n",
       "      <td>0.20</td>\n",
       "      <td>0.16</td>\n",
       "      <td>0.06</td>\n",
       "      <td>1.959</td>\n",
       "      <td>0.097950</td>\n",
       "    </tr>\n",
       "    <tr>\n",
       "      <th>1</th>\n",
       "      <td>2</td>\n",
       "      <td>B</td>\n",
       "      <td>1.26</td>\n",
       "      <td>0.006</td>\n",
       "      <td>16.81</td>\n",
       "      <td>2.84</td>\n",
       "      <td>1.70</td>\n",
       "      <td>0.68</td>\n",
       "      <td>22.036</td>\n",
       "      <td>0.017489</td>\n",
       "    </tr>\n",
       "    <tr>\n",
       "      <th>2</th>\n",
       "      <td>3</td>\n",
       "      <td>B</td>\n",
       "      <td>2.18</td>\n",
       "      <td>0.026</td>\n",
       "      <td>11.08</td>\n",
       "      <td>1.95</td>\n",
       "      <td>0.89</td>\n",
       "      <td>1.15</td>\n",
       "      <td>15.096</td>\n",
       "      <td>0.006925</td>\n",
       "    </tr>\n",
       "    <tr>\n",
       "      <th>3</th>\n",
       "      <td>4</td>\n",
       "      <td>D</td>\n",
       "      <td>0.25</td>\n",
       "      <td>0.050</td>\n",
       "      <td>0.41</td>\n",
       "      <td>0.16</td>\n",
       "      <td>0.09</td>\n",
       "      <td>0.12</td>\n",
       "      <td>0.830</td>\n",
       "      <td>0.003320</td>\n",
       "    </tr>\n",
       "    <tr>\n",
       "      <th>4</th>\n",
       "      <td>5</td>\n",
       "      <td>B</td>\n",
       "      <td>0.01</td>\n",
       "      <td>0.003</td>\n",
       "      <td>1.57</td>\n",
       "      <td>0.20</td>\n",
       "      <td>0.34</td>\n",
       "      <td>0.08</td>\n",
       "      <td>2.193</td>\n",
       "      <td>0.219300</td>\n",
       "    </tr>\n",
       "  </tbody>\n",
       "</table>\n",
       "</div>"
      ],
      "text/plain": [
       "   Species ID Bird vs Dino  Body Mass (kg)  Olfactory bulbs (cm3)  \\\n",
       "0           1            B            0.02                  0.009   \n",
       "1           2            B            1.26                  0.006   \n",
       "2           3            B            2.18                  0.026   \n",
       "3           4            D            0.25                  0.050   \n",
       "4           5            B            0.01                  0.003   \n",
       "\n",
       "   Cerebrum (cm3)  Optic Lobes (cm3)  Cerebellum (cm3)  Brain Stem (cm3)  \\\n",
       "0            1.53               0.20              0.16              0.06   \n",
       "1           16.81               2.84              1.70              0.68   \n",
       "2           11.08               1.95              0.89              1.15   \n",
       "3            0.41               0.16              0.09              0.12   \n",
       "4            1.57               0.20              0.34              0.08   \n",
       "\n",
       "   whole brain (cm3)  Brain To Body mass  \n",
       "0              1.959            0.097950  \n",
       "1             22.036            0.017489  \n",
       "2             15.096            0.006925  \n",
       "3              0.830            0.003320  \n",
       "4              2.193            0.219300  "
      ]
     },
     "execution_count": 11,
     "metadata": {},
     "output_type": "execute_result"
    }
   ],
   "source": [
    "brain_df.head()"
   ]
  },
  {
   "cell_type": "code",
   "execution_count": 12,
   "metadata": {},
   "outputs": [],
   "source": [
    "brain_df[\"Cerebrum to Brain\"] = (brain_df[\"Cerebrum (cm3)\"]) / (brain_df[\"whole brain (cm3)\"])"
   ]
  },
  {
   "cell_type": "code",
   "execution_count": 13,
   "metadata": {},
   "outputs": [
    {
     "data": {
      "text/html": [
       "<div>\n",
       "<style scoped>\n",
       "    .dataframe tbody tr th:only-of-type {\n",
       "        vertical-align: middle;\n",
       "    }\n",
       "\n",
       "    .dataframe tbody tr th {\n",
       "        vertical-align: top;\n",
       "    }\n",
       "\n",
       "    .dataframe thead th {\n",
       "        text-align: right;\n",
       "    }\n",
       "</style>\n",
       "<table border=\"1\" class=\"dataframe\">\n",
       "  <thead>\n",
       "    <tr style=\"text-align: right;\">\n",
       "      <th></th>\n",
       "      <th>Species ID</th>\n",
       "      <th>Bird vs Dino</th>\n",
       "      <th>Body Mass (kg)</th>\n",
       "      <th>Olfactory bulbs (cm3)</th>\n",
       "      <th>Cerebrum (cm3)</th>\n",
       "      <th>Optic Lobes (cm3)</th>\n",
       "      <th>Cerebellum (cm3)</th>\n",
       "      <th>Brain Stem (cm3)</th>\n",
       "      <th>whole brain (cm3)</th>\n",
       "      <th>Brain To Body mass</th>\n",
       "      <th>Cerebrum to Brain</th>\n",
       "    </tr>\n",
       "  </thead>\n",
       "  <tbody>\n",
       "    <tr>\n",
       "      <th>0</th>\n",
       "      <td>1</td>\n",
       "      <td>B</td>\n",
       "      <td>0.02</td>\n",
       "      <td>0.009</td>\n",
       "      <td>1.53</td>\n",
       "      <td>0.20</td>\n",
       "      <td>0.16</td>\n",
       "      <td>0.06</td>\n",
       "      <td>1.959</td>\n",
       "      <td>0.097950</td>\n",
       "      <td>0.781011</td>\n",
       "    </tr>\n",
       "    <tr>\n",
       "      <th>1</th>\n",
       "      <td>2</td>\n",
       "      <td>B</td>\n",
       "      <td>1.26</td>\n",
       "      <td>0.006</td>\n",
       "      <td>16.81</td>\n",
       "      <td>2.84</td>\n",
       "      <td>1.70</td>\n",
       "      <td>0.68</td>\n",
       "      <td>22.036</td>\n",
       "      <td>0.017489</td>\n",
       "      <td>0.762843</td>\n",
       "    </tr>\n",
       "    <tr>\n",
       "      <th>2</th>\n",
       "      <td>3</td>\n",
       "      <td>B</td>\n",
       "      <td>2.18</td>\n",
       "      <td>0.026</td>\n",
       "      <td>11.08</td>\n",
       "      <td>1.95</td>\n",
       "      <td>0.89</td>\n",
       "      <td>1.15</td>\n",
       "      <td>15.096</td>\n",
       "      <td>0.006925</td>\n",
       "      <td>0.733969</td>\n",
       "    </tr>\n",
       "    <tr>\n",
       "      <th>3</th>\n",
       "      <td>4</td>\n",
       "      <td>D</td>\n",
       "      <td>0.25</td>\n",
       "      <td>0.050</td>\n",
       "      <td>0.41</td>\n",
       "      <td>0.16</td>\n",
       "      <td>0.09</td>\n",
       "      <td>0.12</td>\n",
       "      <td>0.830</td>\n",
       "      <td>0.003320</td>\n",
       "      <td>0.493976</td>\n",
       "    </tr>\n",
       "    <tr>\n",
       "      <th>4</th>\n",
       "      <td>5</td>\n",
       "      <td>B</td>\n",
       "      <td>0.01</td>\n",
       "      <td>0.003</td>\n",
       "      <td>1.57</td>\n",
       "      <td>0.20</td>\n",
       "      <td>0.34</td>\n",
       "      <td>0.08</td>\n",
       "      <td>2.193</td>\n",
       "      <td>0.219300</td>\n",
       "      <td>0.715914</td>\n",
       "    </tr>\n",
       "  </tbody>\n",
       "</table>\n",
       "</div>"
      ],
      "text/plain": [
       "   Species ID Bird vs Dino  Body Mass (kg)  Olfactory bulbs (cm3)  \\\n",
       "0           1            B            0.02                  0.009   \n",
       "1           2            B            1.26                  0.006   \n",
       "2           3            B            2.18                  0.026   \n",
       "3           4            D            0.25                  0.050   \n",
       "4           5            B            0.01                  0.003   \n",
       "\n",
       "   Cerebrum (cm3)  Optic Lobes (cm3)  Cerebellum (cm3)  Brain Stem (cm3)  \\\n",
       "0            1.53               0.20              0.16              0.06   \n",
       "1           16.81               2.84              1.70              0.68   \n",
       "2           11.08               1.95              0.89              1.15   \n",
       "3            0.41               0.16              0.09              0.12   \n",
       "4            1.57               0.20              0.34              0.08   \n",
       "\n",
       "   whole brain (cm3)  Brain To Body mass  Cerebrum to Brain  \n",
       "0              1.959            0.097950           0.781011  \n",
       "1             22.036            0.017489           0.762843  \n",
       "2             15.096            0.006925           0.733969  \n",
       "3              0.830            0.003320           0.493976  \n",
       "4              2.193            0.219300           0.715914  "
      ]
     },
     "execution_count": 13,
     "metadata": {},
     "output_type": "execute_result"
    }
   ],
   "source": [
    "brain_df.head()"
   ]
  },
  {
   "cell_type": "code",
   "execution_count": 14,
   "metadata": {},
   "outputs": [],
   "source": [
    "#third step \n",
    "#calculate brain/body mass and cerebrum/wholebrain for my brain\n"
   ]
  },
  {
   "cell_type": "code",
   "execution_count": 15,
   "metadata": {},
   "outputs": [],
   "source": [
    "dinos = brain_df.loc[brain_df[\"Bird vs Dino\"]== \"D\"]"
   ]
  },
  {
   "cell_type": "code",
   "execution_count": 16,
   "metadata": {},
   "outputs": [
    {
     "data": {
      "text/html": [
       "<div>\n",
       "<style scoped>\n",
       "    .dataframe tbody tr th:only-of-type {\n",
       "        vertical-align: middle;\n",
       "    }\n",
       "\n",
       "    .dataframe tbody tr th {\n",
       "        vertical-align: top;\n",
       "    }\n",
       "\n",
       "    .dataframe thead th {\n",
       "        text-align: right;\n",
       "    }\n",
       "</style>\n",
       "<table border=\"1\" class=\"dataframe\">\n",
       "  <thead>\n",
       "    <tr style=\"text-align: right;\">\n",
       "      <th></th>\n",
       "      <th>Species ID</th>\n",
       "      <th>Bird vs Dino</th>\n",
       "      <th>Body Mass (kg)</th>\n",
       "      <th>Olfactory bulbs (cm3)</th>\n",
       "      <th>Cerebrum (cm3)</th>\n",
       "      <th>Optic Lobes (cm3)</th>\n",
       "      <th>Cerebellum (cm3)</th>\n",
       "      <th>Brain Stem (cm3)</th>\n",
       "      <th>whole brain (cm3)</th>\n",
       "      <th>Brain To Body mass</th>\n",
       "      <th>Cerebrum to Brain</th>\n",
       "    </tr>\n",
       "  </thead>\n",
       "  <tbody>\n",
       "    <tr>\n",
       "      <th>3</th>\n",
       "      <td>4</td>\n",
       "      <td>D</td>\n",
       "      <td>0.25</td>\n",
       "      <td>0.050</td>\n",
       "      <td>0.41</td>\n",
       "      <td>0.16</td>\n",
       "      <td>0.09</td>\n",
       "      <td>0.12</td>\n",
       "      <td>0.830</td>\n",
       "      <td>0.003320</td>\n",
       "      <td>0.493976</td>\n",
       "    </tr>\n",
       "    <tr>\n",
       "      <th>5</th>\n",
       "      <td>6</td>\n",
       "      <td>D</td>\n",
       "      <td>85.96</td>\n",
       "      <td>0.569</td>\n",
       "      <td>9.52</td>\n",
       "      <td>3.60</td>\n",
       "      <td>5.16</td>\n",
       "      <td>3.78</td>\n",
       "      <td>22.629</td>\n",
       "      <td>0.000263</td>\n",
       "      <td>0.420699</td>\n",
       "    </tr>\n",
       "    <tr>\n",
       "      <th>6</th>\n",
       "      <td>7</td>\n",
       "      <td>D</td>\n",
       "      <td>0.50</td>\n",
       "      <td>0.077</td>\n",
       "      <td>0.60</td>\n",
       "      <td>0.36</td>\n",
       "      <td>0.24</td>\n",
       "      <td>0.17</td>\n",
       "      <td>1.447</td>\n",
       "      <td>0.002894</td>\n",
       "      <td>0.414651</td>\n",
       "    </tr>\n",
       "    <tr>\n",
       "      <th>9</th>\n",
       "      <td>10</td>\n",
       "      <td>D</td>\n",
       "      <td>12.61</td>\n",
       "      <td>0.028</td>\n",
       "      <td>3.71</td>\n",
       "      <td>1.31</td>\n",
       "      <td>1.60</td>\n",
       "      <td>2.17</td>\n",
       "      <td>8.818</td>\n",
       "      <td>0.000699</td>\n",
       "      <td>0.420730</td>\n",
       "    </tr>\n",
       "    <tr>\n",
       "      <th>14</th>\n",
       "      <td>15</td>\n",
       "      <td>D</td>\n",
       "      <td>49.30</td>\n",
       "      <td>1.080</td>\n",
       "      <td>14.81</td>\n",
       "      <td>4.75</td>\n",
       "      <td>3.16</td>\n",
       "      <td>2.35</td>\n",
       "      <td>26.150</td>\n",
       "      <td>0.000530</td>\n",
       "      <td>0.566348</td>\n",
       "    </tr>\n",
       "  </tbody>\n",
       "</table>\n",
       "</div>"
      ],
      "text/plain": [
       "    Species ID Bird vs Dino  Body Mass (kg)  Olfactory bulbs (cm3)  \\\n",
       "3            4            D            0.25                  0.050   \n",
       "5            6            D           85.96                  0.569   \n",
       "6            7            D            0.50                  0.077   \n",
       "9           10            D           12.61                  0.028   \n",
       "14          15            D           49.30                  1.080   \n",
       "\n",
       "    Cerebrum (cm3)  Optic Lobes (cm3)  Cerebellum (cm3)  Brain Stem (cm3)  \\\n",
       "3             0.41               0.16              0.09              0.12   \n",
       "5             9.52               3.60              5.16              3.78   \n",
       "6             0.60               0.36              0.24              0.17   \n",
       "9             3.71               1.31              1.60              2.17   \n",
       "14           14.81               4.75              3.16              2.35   \n",
       "\n",
       "    whole brain (cm3)  Brain To Body mass  Cerebrum to Brain  \n",
       "3               0.830            0.003320           0.493976  \n",
       "5              22.629            0.000263           0.420699  \n",
       "6               1.447            0.002894           0.414651  \n",
       "9               8.818            0.000699           0.420730  \n",
       "14             26.150            0.000530           0.566348  "
      ]
     },
     "execution_count": 16,
     "metadata": {},
     "output_type": "execute_result"
    }
   ],
   "source": [
    "dinos.head()"
   ]
  },
  {
   "cell_type": "code",
   "execution_count": 17,
   "metadata": {},
   "outputs": [],
   "source": [
    "birds = brain_df.loc[brain_df[\"Bird vs Dino\"]== \"B\"]"
   ]
  },
  {
   "cell_type": "code",
   "execution_count": 18,
   "metadata": {},
   "outputs": [
    {
     "data": {
      "text/html": [
       "<div>\n",
       "<style scoped>\n",
       "    .dataframe tbody tr th:only-of-type {\n",
       "        vertical-align: middle;\n",
       "    }\n",
       "\n",
       "    .dataframe tbody tr th {\n",
       "        vertical-align: top;\n",
       "    }\n",
       "\n",
       "    .dataframe thead th {\n",
       "        text-align: right;\n",
       "    }\n",
       "</style>\n",
       "<table border=\"1\" class=\"dataframe\">\n",
       "  <thead>\n",
       "    <tr style=\"text-align: right;\">\n",
       "      <th></th>\n",
       "      <th>Species ID</th>\n",
       "      <th>Bird vs Dino</th>\n",
       "      <th>Body Mass (kg)</th>\n",
       "      <th>Olfactory bulbs (cm3)</th>\n",
       "      <th>Cerebrum (cm3)</th>\n",
       "      <th>Optic Lobes (cm3)</th>\n",
       "      <th>Cerebellum (cm3)</th>\n",
       "      <th>Brain Stem (cm3)</th>\n",
       "      <th>whole brain (cm3)</th>\n",
       "      <th>Brain To Body mass</th>\n",
       "      <th>Cerebrum to Brain</th>\n",
       "    </tr>\n",
       "  </thead>\n",
       "  <tbody>\n",
       "    <tr>\n",
       "      <th>0</th>\n",
       "      <td>1</td>\n",
       "      <td>B</td>\n",
       "      <td>0.02</td>\n",
       "      <td>0.009</td>\n",
       "      <td>1.53</td>\n",
       "      <td>0.20</td>\n",
       "      <td>0.16</td>\n",
       "      <td>0.06</td>\n",
       "      <td>1.959</td>\n",
       "      <td>0.097950</td>\n",
       "      <td>0.781011</td>\n",
       "    </tr>\n",
       "    <tr>\n",
       "      <th>1</th>\n",
       "      <td>2</td>\n",
       "      <td>B</td>\n",
       "      <td>1.26</td>\n",
       "      <td>0.006</td>\n",
       "      <td>16.81</td>\n",
       "      <td>2.84</td>\n",
       "      <td>1.70</td>\n",
       "      <td>0.68</td>\n",
       "      <td>22.036</td>\n",
       "      <td>0.017489</td>\n",
       "      <td>0.762843</td>\n",
       "    </tr>\n",
       "    <tr>\n",
       "      <th>2</th>\n",
       "      <td>3</td>\n",
       "      <td>B</td>\n",
       "      <td>2.18</td>\n",
       "      <td>0.026</td>\n",
       "      <td>11.08</td>\n",
       "      <td>1.95</td>\n",
       "      <td>0.89</td>\n",
       "      <td>1.15</td>\n",
       "      <td>15.096</td>\n",
       "      <td>0.006925</td>\n",
       "      <td>0.733969</td>\n",
       "    </tr>\n",
       "    <tr>\n",
       "      <th>4</th>\n",
       "      <td>5</td>\n",
       "      <td>B</td>\n",
       "      <td>0.01</td>\n",
       "      <td>0.003</td>\n",
       "      <td>1.57</td>\n",
       "      <td>0.20</td>\n",
       "      <td>0.34</td>\n",
       "      <td>0.08</td>\n",
       "      <td>2.193</td>\n",
       "      <td>0.219300</td>\n",
       "      <td>0.715914</td>\n",
       "    </tr>\n",
       "    <tr>\n",
       "      <th>7</th>\n",
       "      <td>8</td>\n",
       "      <td>B</td>\n",
       "      <td>0.90</td>\n",
       "      <td>0.234</td>\n",
       "      <td>5.95</td>\n",
       "      <td>0.99</td>\n",
       "      <td>0.96</td>\n",
       "      <td>0.55</td>\n",
       "      <td>8.684</td>\n",
       "      <td>0.009649</td>\n",
       "      <td>0.685168</td>\n",
       "    </tr>\n",
       "  </tbody>\n",
       "</table>\n",
       "</div>"
      ],
      "text/plain": [
       "   Species ID Bird vs Dino  Body Mass (kg)  Olfactory bulbs (cm3)  \\\n",
       "0           1            B            0.02                  0.009   \n",
       "1           2            B            1.26                  0.006   \n",
       "2           3            B            2.18                  0.026   \n",
       "4           5            B            0.01                  0.003   \n",
       "7           8            B            0.90                  0.234   \n",
       "\n",
       "   Cerebrum (cm3)  Optic Lobes (cm3)  Cerebellum (cm3)  Brain Stem (cm3)  \\\n",
       "0            1.53               0.20              0.16              0.06   \n",
       "1           16.81               2.84              1.70              0.68   \n",
       "2           11.08               1.95              0.89              1.15   \n",
       "4            1.57               0.20              0.34              0.08   \n",
       "7            5.95               0.99              0.96              0.55   \n",
       "\n",
       "   whole brain (cm3)  Brain To Body mass  Cerebrum to Brain  \n",
       "0              1.959            0.097950           0.781011  \n",
       "1             22.036            0.017489           0.762843  \n",
       "2             15.096            0.006925           0.733969  \n",
       "4              2.193            0.219300           0.715914  \n",
       "7              8.684            0.009649           0.685168  "
      ]
     },
     "execution_count": 18,
     "metadata": {},
     "output_type": "execute_result"
    }
   ],
   "source": [
    "birds.head()"
   ]
  },
  {
   "cell_type": "code",
   "execution_count": 19,
   "metadata": {},
   "outputs": [],
   "source": [
    "bird_b_to_b = birds[\"Brain To Body mass\"].mean()\n",
    "bird_c_to_b = birds[\"Cerebrum to Brain\"].mean()"
   ]
  },
  {
   "cell_type": "code",
   "execution_count": 20,
   "metadata": {},
   "outputs": [
    {
     "name": "stdout",
     "output_type": "stream",
     "text": [
      "0.04781897158703077\n",
      "0.6650761062786563\n"
     ]
    }
   ],
   "source": [
    "print(bird_b_to_b)\n",
    "print(bird_c_to_b )"
   ]
  },
  {
   "cell_type": "code",
   "execution_count": 21,
   "metadata": {},
   "outputs": [],
   "source": [
    "dino_c_to_b = dinos[\"Cerebrum to Brain\"].mean()\n",
    "dino_b_to_b = dinos[\"Brain To Body mass\"].mean()"
   ]
  },
  {
   "cell_type": "code",
   "execution_count": 22,
   "metadata": {},
   "outputs": [
    {
     "name": "stdout",
     "output_type": "stream",
     "text": [
      "0.4696031703064059\n",
      "0.0016099413841087278\n"
     ]
    }
   ],
   "source": [
    "print(dino_c_to_b)\n",
    "print(dino_b_to_b)"
   ]
  },
  {
   "cell_type": "code",
   "execution_count": 23,
   "metadata": {},
   "outputs": [],
   "source": [
    "import numpy as np"
   ]
  },
  {
   "cell_type": "code",
   "execution_count": 26,
   "metadata": {},
   "outputs": [],
   "source": [
    "def dino(dino_type, length):\n",
    "    if dino_type == \"ornithischian\":\n",
    "        length = 10**(3.0587*np.log10(length)-2.7042)/1000\n",
    "    elif dino_type == \"sauropod\":\n",
    "        length = 10**(2.3459*np.log10(length)-0.2935)/1000\n",
    "    elif dino_type == \"theropod\":\n",
    "        length = 10**(3.1854*np.log10(length)-3.184)/1000\n",
    "    return length"
   ]
  },
  {
   "cell_type": "code",
   "execution_count": 27,
   "metadata": {},
   "outputs": [
    {
     "name": "stdout",
     "output_type": "stream",
     "text": [
      "83.15231572461474\n"
     ]
    }
   ],
   "source": [
    "print(dino(\"theropod\", 350))"
   ]
  },
  {
   "cell_type": "code",
   "execution_count": 28,
   "metadata": {},
   "outputs": [],
   "source": [
    "olf_species = 1\n",
    "brum = 3.5\n",
    "opt_species = 2.5\n",
    "bellum = 2.9\n",
    "volume = 22.6\n",
    "body_mass = dino(\"theropod\", 350)*1000\n",
    "whole_brain = olf_species + brum + opt_species + bellum"
   ]
  },
  {
   "cell_type": "code",
   "execution_count": 29,
   "metadata": {},
   "outputs": [
    {
     "name": "stdout",
     "output_type": "stream",
     "text": [
      "9.9\n"
     ]
    }
   ],
   "source": [
    "print(whole_brain)"
   ]
  },
  {
   "cell_type": "code",
   "execution_count": 30,
   "metadata": {},
   "outputs": [
    {
     "name": "stdout",
     "output_type": "stream",
     "text": [
      "0.35353535353535354\n"
     ]
    }
   ],
   "source": [
    "cer = brum / whole_brain\n",
    "print(cer)"
   ]
  },
  {
   "cell_type": "code",
   "execution_count": 32,
   "metadata": {},
   "outputs": [
    {
     "name": "stdout",
     "output_type": "stream",
     "text": [
      "0.0002717903861492814\n"
     ]
    }
   ],
   "source": [
    "braintobodymass= volume/body_mass\n",
    "print(braintobodymass)"
   ]
  },
  {
   "cell_type": "code",
   "execution_count": 34,
   "metadata": {},
   "outputs": [],
   "source": [
    "def braintob(ratio):\n",
    "    if abs(ratio - dino_b_to_b) > abs(ratio - bird_b_to_b):\n",
    "        result = \"This species is closer to a bird!\"\n",
    "    elif abs(ratio - dino_b_to_b) < abs(ratio - bird_b_to_b):\n",
    "        result = \"This species is closer to a dinosaur!\"\n",
    "    return result"
   ]
  },
  {
   "cell_type": "code",
   "execution_count": 35,
   "metadata": {},
   "outputs": [
    {
     "data": {
      "text/plain": [
       "'This species is closer to a dinosaur!'"
      ]
     },
     "execution_count": 35,
     "metadata": {},
     "output_type": "execute_result"
    }
   ],
   "source": [
    "braintob(braintobodymass)"
   ]
  },
  {
   "cell_type": "code",
   "execution_count": 36,
   "metadata": {},
   "outputs": [],
   "source": [
    "def ctob(ratio):\n",
    "    if abs(ratio - dino_c_to_b) > abs(ratio - bird_c_to_b):\n",
    "        result = \"This species is closer to a bird!\"\n",
    "    elif abs(ratio - dino_c_to_b) < abs(ratio - bird_c_to_b):\n",
    "        result = \"This species is closer to a dinosaur!\"\n",
    "    return result"
   ]
  },
  {
   "cell_type": "code",
   "execution_count": 38,
   "metadata": {},
   "outputs": [
    {
     "data": {
      "text/plain": [
       "'This species is closer to a dinosaur!'"
      ]
     },
     "execution_count": 38,
     "metadata": {},
     "output_type": "execute_result"
    }
   ],
   "source": [
    "ctob(cer)"
   ]
  },
  {
   "cell_type": "code",
   "execution_count": 41,
   "metadata": {},
   "outputs": [
    {
     "data": {
      "image/png": "[encoded data removed]",
      "text/plain": [
       "<Figure size 432x288 with 1 Axes>"
      ]
     },
     "metadata": {
      "needs_background": "light"
     },
     "output_type": "display_data"
    }
   ],
   "source": [
    "import matplotlib.pyplot as plt\n",
    "plt.scatter(dinos[\"Body Mass (kg)\"], dinos[\"whole brain (cm3)\"], c = \"limegreen\", label = \"Dino\", s = 25)\n",
    "plt.scatter(birds[\"Body Mass (kg)\"], birds[\"whole brain (cm3)\"], c = \"cornflowerblue\", label = \"Bird\", s = 25)\n",
    "plt.scatter(body_mass/1000, whole_brain, marker = \"*\", c = \"gold\", s =200, edgecolor = \"black\", label = \"Our Species\")\n",
    "plt.legend()\n",
    "plt.ylabel(\"Whole Brain\")\n",
    "plt.xlabel(\"Body Mass\")\n",
    "plt.title(\"Body Mass to Whole Brain for Birds and Dinosaurs\")\n",
    "plt.show()"
   ]
  },
  {
   "cell_type": "code",
   "execution_count": null,
   "metadata": {},
   "outputs": [],
   "source": []
  }
 ],
 "metadata": {
  "kernelspec": {
   "display_name": "Python 3",
   "language": "python",
   "name": "python3"
  },
  "language_info": {
   "codemirror_mode": {
    "name": "ipython",
    "version": 3
   },
   "file_extension": ".py",
   "mimetype": "text/x-python",
   "name": "python",
   "nbconvert_exporter": "python",
   "pygments_lexer": "ipython3",
   "version": "3.7.3"
  }
 },
 "nbformat": 4,
 "nbformat_minor": 2
}
